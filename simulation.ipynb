{
 "cells": [
  {
   "cell_type": "code",
   "execution_count": 2,
   "id": "0e0a63e3-a153-47eb-99bd-21d3b22bcf7d",
   "metadata": {},
   "outputs": [],
   "source": [
    "import numpy as np\n",
    "import matplotlib.pyplot as plt"
   ]
  },
  {
   "cell_type": "code",
   "execution_count": 3,
   "id": "dee6ffbb-9b78-42fa-a260-58bfa70c9648",
   "metadata": {},
   "outputs": [],
   "source": [
    "# Parameters for simulation.\n",
    "\n",
    "N = 25 # number of institutions\n",
    "T = 40 # number of time periods\n",
    "n = 20 # (< N)\n",
    "H = 0.5 # critical threshold level"
   ]
  },
  {
   "cell_type": "code",
   "execution_count": 30,
   "id": "182890c7-3afd-4955-acd3-383b7222b4fc",
   "metadata": {},
   "outputs": [],
   "source": [
    "def generate_returns(N, T, assump='iid-gaussian'):\n",
    "    \"\"\"\n",
    "    Generate a series of simulated returns of assets.\n",
    "\n",
    "    Parameters\n",
    "    ----------\n",
    "    N: int\n",
    "        number of institutions.\n",
    "\n",
    "    T: int\n",
    "        number of time periods.\n",
    "\n",
    "    assump: str\n",
    "        assumptions on time updating process.\n",
    "    \n",
    "\n",
    "    Returns\n",
    "    ----------\n",
    "    sr: 2-dim numpy.ndarray\n",
    "        simulated returns of assets.\n",
    "    \"\"\"\n",
    "    if assump=='iid-gaussian':\n",
    "        rs = np.random.randn(T, N)\n",
    "    else:\n",
    "        raise ValueError(\"Invalid assumption for series. Try 'iid-gaussian', 'AR(1)' instead.\")\n",
    "    return rs"
   ]
  },
  {
   "cell_type": "code",
   "execution_count": 31,
   "id": "5c2e1aa5-120f-46b2-9ae4-3e711fdd55b7",
   "metadata": {},
   "outputs": [],
   "source": [
    "mkt_returns = generate_returns(N, T) # You can replace it with real-world historical market return data."
   ]
  },
  {
   "cell_type": "code",
   "execution_count": 43,
   "id": "13f5c26e-6edf-48b1-a687-3bd4046f5d5b",
   "metadata": {},
   "outputs": [
    {
     "name": "stdout",
     "output_type": "stream",
     "text": [
      "25 25 (25, 25)\n"
     ]
    }
   ],
   "source": [
    "mu = np.mean(mkt_returns, axis=0)\n",
    "var = np.var(mkt_returns, axis=0)\n",
    "cov = np.cov(mkt_returns, rowvar=False)\n",
    "\n",
    "print(len(mu), len(var), cov.shape) # Check if the shape equals"
   ]
  },
  {
   "cell_type": "code",
   "execution_count": 47,
   "id": "f0bf704c-df2a-40d1-87ee-2bc249825f39",
   "metadata": {},
   "outputs": [
    {
     "data": {
      "text/plain": [
       "array([-0.0208285 , -0.01944458, -0.01393005, -0.03182671, -0.02884254,\n",
       "       -0.03116999, -0.02014827, -0.02315294, -0.02430615, -0.01672334,\n",
       "       -0.02368016, -0.01915837, -0.02680283, -0.02357469, -0.0199712 ,\n",
       "       -0.02120357, -0.03412431, -0.0247345 , -0.0221495 , -0.02675032,\n",
       "       -0.02295283, -0.03049016, -0.01832078, -0.01869257, -0.0319854 ])"
      ]
     },
     "execution_count": 47,
     "metadata": {},
     "output_type": "execute_result"
    }
   ],
   "source": [
    "var - np.diag(cov)"
   ]
  },
  {
   "cell_type": "code",
   "execution_count": 42,
   "id": "facb0d21-e0ec-4406-b89b-ca29e31c2180",
   "metadata": {},
   "outputs": [
    {
     "data": {
      "text/plain": [
       "25"
      ]
     },
     "execution_count": 42,
     "metadata": {},
     "output_type": "execute_result"
    }
   ],
   "source": [
    "len(mu)"
   ]
  },
  {
   "cell_type": "code",
   "execution_count": null,
   "id": "45a37cc9-0c13-419d-a894-797e229724df",
   "metadata": {},
   "outputs": [],
   "source": []
  }
 ],
 "metadata": {
  "kernelspec": {
   "display_name": "Python 3 (ipykernel)",
   "language": "python",
   "name": "python3"
  },
  "language_info": {
   "codemirror_mode": {
    "name": "ipython",
    "version": 3
   },
   "file_extension": ".py",
   "mimetype": "text/x-python",
   "name": "python",
   "nbconvert_exporter": "python",
   "pygments_lexer": "ipython3",
   "version": "3.11.7"
  }
 },
 "nbformat": 4,
 "nbformat_minor": 5
}
