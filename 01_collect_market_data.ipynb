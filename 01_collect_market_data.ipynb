{
 "cells": [
  {
   "cell_type": "markdown",
   "id": "391fffbc-d334-46fd-8c24-01b5858ad627",
   "metadata": {},
   "source": [
    "## Preliminary Settings"
   ]
  },
  {
   "cell_type": "code",
   "execution_count": 1,
   "id": "2c3c1261-b805-4f3d-b7fc-6e9e78ff1e33",
   "metadata": {},
   "outputs": [
    {
     "name": "stdout",
     "output_type": "stream",
     "text": [
      "3.11.7 | packaged by Anaconda, Inc. | (main, Dec 15 2023, 18:05:47) [MSC v.1916 64 bit (AMD64)]\n"
     ]
    }
   ],
   "source": [
    "import sys\n",
    "print(sys.version)"
   ]
  },
  {
   "cell_type": "code",
   "execution_count": 2,
   "id": "2b8f602a-cc36-416b-9824-c0a44066f3d4",
   "metadata": {},
   "outputs": [],
   "source": [
    "import numpy as np\n",
    "import pandas as pd\n",
    "\n",
    "from pykrx import stock\n",
    "from pykrx import bond\n",
    "import yfinance as yf\n",
    "import FinanceDataReader as fdr\n",
    "\n",
    "import time\n",
    "from datetime import datetime\n",
    "from tqdm.auto import tqdm"
   ]
  },
  {
   "cell_type": "code",
   "execution_count": 3,
   "id": "744951b5-3400-44a2-aff4-91bb0ac554e3",
   "metadata": {},
   "outputs": [
    {
     "name": "stdout",
     "output_type": "stream",
     "text": [
      "2025-01-25\n"
     ]
    }
   ],
   "source": [
    "today = datetime.today().strftime('%Y-%m-%d')\n",
    "print(today)"
   ]
  },
  {
   "cell_type": "markdown",
   "id": "94ab3d9c-493b-4769-8380-d46ea52bc169",
   "metadata": {},
   "source": [
    "## US Stock Market Data"
   ]
  },
  {
   "cell_type": "code",
   "execution_count": 4,
   "id": "e0053d96-78bc-4a36-94a0-904be58da1f2",
   "metadata": {},
   "outputs": [],
   "source": [
    "# Get the list of tickers.\n",
    "\n",
    "def get_tickers(save=True, path='./data/tickers/'):\n",
    "\n",
    "    print('Downloading list of tickers of firms listed in NYSE and NASDAQ.')\n",
    "    tickers_nyse = fdr.StockListing('NYSE')\n",
    "    tickers_nasdaq = fdr.StockListing('NASDAQ')\n",
    "    \n",
    "    tickers_nyse.drop(['IndustryCode', 'Industry'], axis=1, inplace=True)\n",
    "    tickers_nasdaq.drop(['IndustryCode', 'Industry'], axis=1, inplace=True)\n",
    "    \n",
    "    tickers_nyse['Market'] = 'NYSE'\n",
    "    tickers_nasdaq['Market'] = 'NASDAQ'\n",
    "    \n",
    "    tickers = pd.concat([tickers_nyse, tickers_nasdaq], axis=0).reset_index(drop=True)\n",
    "\n",
    "    if save:\n",
    "        today = datetime.today().strftime('%Y-%m-%d')\n",
    "        tickers.to_csv(path+f'ticker_list_{today}.csv', index=False)\n",
    "        print('Successfully saved ticker list in the local directory.')\n",
    "        \n",
    "    return tickers"
   ]
  },
  {
   "cell_type": "code",
   "execution_count": 5,
   "id": "70157596-9a3b-41a7-bea7-df61281f9631",
   "metadata": {},
   "outputs": [
    {
     "name": "stdout",
     "output_type": "stream",
     "text": [
      "Downloading list of tickers of firms listed in NYSE and NASDAQ.\n"
     ]
    },
    {
     "name": "stderr",
     "output_type": "stream",
     "text": [
      "100%|█████████████████████████████████████████████████████████████████████████████| 2745/2745 [00:04<00:00, 618.30it/s]\n",
      "100%|█████████████████████████████████████████████████████████████████████████████| 3652/3652 [00:06<00:00, 562.44it/s]\n"
     ]
    },
    {
     "name": "stdout",
     "output_type": "stream",
     "text": [
      "Successfully saved ticker list in the local directory.\n"
     ]
    }
   ],
   "source": [
    "tickers = get_tickers()"
   ]
  },
  {
   "cell_type": "code",
   "execution_count": null,
   "id": "3126a67b-d1ea-49fb-b67e-d4452a4c76bd",
   "metadata": {},
   "outputs": [],
   "source": [
    "# Get the market data for collected tickers.\n",
    "\n",
    "print('Downloading market data. ')\n",
    "tickers_list = list(tickers.Symbol)\n",
    "market_data = yf.download(tickers_list)"
   ]
  },
  {
   "cell_type": "code",
   "execution_count": null,
   "id": "d010493d-92e1-451c-93ff-83c8a7b5987a",
   "metadata": {},
   "outputs": [],
   "source": [
    "market_data[['Adj Close']]"
   ]
  },
  {
   "cell_type": "code",
   "execution_count": 13,
   "id": "078ca163-4f8e-41ea-b44e-961f17f50b55",
   "metadata": {},
   "outputs": [
    {
     "data": {
      "text/plain": [
       "6397"
      ]
     },
     "execution_count": 13,
     "metadata": {},
     "output_type": "execute_result"
    }
   ],
   "source": [
    "len(tickers_list)"
   ]
  },
  {
   "cell_type": "markdown",
   "id": "11df9a2c-d2d8-4eea-b068-b24c9f2fc277",
   "metadata": {},
   "source": [
    "## Korean Exchange Market Data"
   ]
  },
  {
   "cell_type": "code",
   "execution_count": 45,
   "id": "ecac81a3-b8e8-45e0-9b24-07d27a70e60e",
   "metadata": {},
   "outputs": [],
   "source": [
    "START_DATE = '1990-12-01'\n",
    "END_DATE = today\n",
    "\n",
    "DATE_RANGE = pd.date_range(START_DATE, END_DATE, freq='d')\n",
    "market = 'KOSPI'"
   ]
  },
  {
   "cell_type": "code",
   "execution_count": 98,
   "id": "3ee9a7ea-6b5d-431b-8f1f-1e89c655eef6",
   "metadata": {},
   "outputs": [],
   "source": [
    "def collect_korea_market_data(date_range, market='KOSPI'):\n",
    "    \n",
    "    init = True\n",
    "    \n",
    "    for date in tqdm(date_range):\n",
    "        try:\n",
    "            ohlcv = stock.get_market_ohlcv_by_ticker(date, market=market)\n",
    "    \n",
    "            if ohlcv['종가'].sum() == 0:\n",
    "                raise KeyError('Not a trading day.')\n",
    "    \n",
    "            if init:\n",
    "                o = pd.DataFrame(ohlcv['시가'].rename(date))\n",
    "                h = pd.DataFrame(ohlcv['고가'].rename(date))\n",
    "                l = pd.DataFrame(ohlcv['저가'].rename(date))\n",
    "                c = pd.DataFrame(ohlcv['종가'].rename(date))\n",
    "                v = pd.DataFrame(ohlcv['거래량'].rename(date))\n",
    "                w = pd.DataFrame(ohlcv['거래대금'].rename(date))\n",
    "                print(f'Collection initialized: {date.strftime(\"%Y-%m-%d\")}.')\n",
    "                init = False\n",
    "                continue\n",
    "                \n",
    "            # Update the stock market data as dataframe respectively.\n",
    "            o = pd.concat([o, ohlcv['시가'].rename(date)], axis=1)\n",
    "            h = pd.concat([h, ohlcv['고가'].rename(date)], axis=1)\n",
    "            l = pd.concat([l, ohlcv['저가'].rename(date)], axis=1)\n",
    "            c = pd.concat([c, ohlcv['종가'].rename(date)], axis=1)\n",
    "            v = pd.concat([v, ohlcv['거래량'].rename(date)], axis=1)\n",
    "            w = pd.concat([w, ohlcv['거래대금'].rename(date)], axis=1)\n",
    "\n",
    "            time.sleep(1)\n",
    "            \n",
    "        except KeyError as e:\n",
    "            with open(f'./data/{market.lower()}-market/error_log.txt', 'a', encoding='utf-8') as f:\n",
    "                # Record a date that prints error.\n",
    "                f.write(f'Download Error: {date} with error msg: {e}\\n')\n",
    "                time.sleep(0.3)\n",
    "\n",
    "    return o, h, l, c, v, w"
   ]
  },
  {
   "cell_type": "code",
   "execution_count": 99,
   "id": "c8da4c9a-6fbf-48ae-afc4-37f02429d79d",
   "metadata": {},
   "outputs": [
    {
     "data": {
      "application/vnd.jupyter.widget-view+json": {
       "model_id": "f8a9d25088f44d29b67b82a485fae16c",
       "version_major": 2,
       "version_minor": 0
      },
      "text/plain": [
       "  0%|          | 0/12472 [00:00<?, ?it/s]"
      ]
     },
     "metadata": {},
     "output_type": "display_data"
    },
    {
     "name": "stdout",
     "output_type": "stream",
     "text": [
      "Collection initialized: 1995-05-02.\n"
     ]
    }
   ],
   "source": [
    "o_ks, h_ks, l_ks, c_ks, v_ks, w_ks = collect_korea_market_data(DATE_RANGE, market='KOSPI')"
   ]
  },
  {
   "cell_type": "code",
   "execution_count": 100,
   "id": "a6dbd925-2ebc-44fd-8d58-dd1ebc980b1f",
   "metadata": {},
   "outputs": [
    {
     "data": {
      "application/vnd.jupyter.widget-view+json": {
       "model_id": "edbdab4335094d1db50728e59c8c44c2",
       "version_major": 2,
       "version_minor": 0
      },
      "text/plain": [
       "  0%|          | 0/12472 [00:00<?, ?it/s]"
      ]
     },
     "metadata": {},
     "output_type": "display_data"
    },
    {
     "name": "stdout",
     "output_type": "stream",
     "text": [
      "Collection initialized: 1996-07-01.\n"
     ]
    }
   ],
   "source": [
    "o_kq, h_kq, l_kq, c_kq, v_kq, w_kq = collect_korea_market_data(DATE_RANGE, market='KOSDAQ')"
   ]
  },
  {
   "cell_type": "code",
   "execution_count": 101,
   "id": "a6b986bb-6a96-40b7-879b-ad3e72c5ee38",
   "metadata": {},
   "outputs": [],
   "source": [
    "kospi = pd.concat([o_ks.stack().rename('open'), \n",
    "                   h_ks.stack().rename('high'), \n",
    "                   l_ks.stack().rename('low'), \n",
    "                   c_ks.stack().rename('close'),\n",
    "                   v_ks.stack().rename('volume'), \n",
    "                   w_ks.stack().rename('trade_value')], axis=1)"
   ]
  },
  {
   "cell_type": "code",
   "execution_count": 102,
   "id": "36307348-bec3-4a57-9117-e4428b744d63",
   "metadata": {},
   "outputs": [],
   "source": [
    "kosdaq = pd.concat([o_kq.stack().rename('open'), \n",
    "                    h_kq.stack().rename('high'), \n",
    "                    l_kq.stack().rename('low'), \n",
    "                    c_kq.stack().rename('close'),\n",
    "                    v_kq.stack().rename('volume'), \n",
    "                    w_kq.stack().rename('trade_value')], axis=1)"
   ]
  },
  {
   "cell_type": "code",
   "execution_count": 103,
   "id": "b6653757-a75d-48df-b1ec-d702cdf70cb3",
   "metadata": {},
   "outputs": [],
   "source": [
    "kospi.to_csv('./data/kospi-market/kospi_market_1995_2024.csv')"
   ]
  },
  {
   "cell_type": "code",
   "execution_count": 104,
   "id": "feef4038-0277-4f87-b73a-7544b76a2769",
   "metadata": {},
   "outputs": [],
   "source": [
    "kosdaq.to_csv('./data/kosdaq-market/kosdaq_market_1995_2024.csv')"
   ]
  },
  {
   "cell_type": "code",
   "execution_count": null,
   "id": "00a7f392-0365-41fd-91b8-6bd4cc7ebc29",
   "metadata": {},
   "outputs": [],
   "source": []
  }
 ],
 "metadata": {
  "kernelspec": {
   "display_name": "Python 3 (ipykernel)",
   "language": "python",
   "name": "python3"
  },
  "language_info": {
   "codemirror_mode": {
    "name": "ipython",
    "version": 3
   },
   "file_extension": ".py",
   "mimetype": "text/x-python",
   "name": "python",
   "nbconvert_exporter": "python",
   "pygments_lexer": "ipython3",
   "version": "3.11.7"
  }
 },
 "nbformat": 4,
 "nbformat_minor": 5
}
